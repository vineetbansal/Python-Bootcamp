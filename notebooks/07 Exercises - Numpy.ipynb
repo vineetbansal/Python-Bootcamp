{
 "cells": [
  {
   "cell_type": "markdown",
   "metadata": {},
   "source": [
    "## Exercise 5.1\n",
    "\n",
    "Given n, create a n x n matrix `M` of random values between 0 and 1. Multiply it by an Identity Matrix and verify that the result is unchanged from `M`.\n",
    "\n",
    "$$\n",
    "    M * I= M\n",
    "$$\n",
    "\n",
    "Numpy Functions that might come in handy here are `np.random.random`, `np.matmul`, `np.eye` and `np.allclose`."
   ]
  },
  {
   "cell_type": "code",
   "execution_count": 3,
   "metadata": {},
   "outputs": [
    {
     "data": {
      "text/plain": [
       "True"
      ]
     },
     "execution_count": 3,
     "metadata": {},
     "output_type": "execute_result"
    }
   ],
   "source": [
    "import numpy as np\n",
    "\n",
    "n = 5\n",
    "# ----------------------- #\n",
    "# COMPLETE THIS CODE\n",
    "M = np.random.randn(n, n)\n",
    "np.allclose(M @ np.eye(n), M)\n",
    "# ----------------------- #"
   ]
  },
  {
   "cell_type": "markdown",
   "metadata": {},
   "source": [
    "## Exercise 5.2\n",
    "\n",
    "Given `m` and `n`, create two `m x n` matrices `A` and `B` of random values and verify the following mathematical identities:\n",
    "\n",
    "$$\n",
    "    (A + B)^{T} = A^{T} + B^{T}\n",
    "$$\n",
    "$$\n",
    "    (AB)^{T} = B^{T}A^{T}\n",
    "$$\n",
    "\n",
    "Numpy Functions that might come in handy here are `np.random.random`, `np.matmul` and `np.allclose`. Also, remember that ndarrays have a `transpose()` *method*, or a `T` *property* that returns its transpose."
   ]
  },
  {
   "cell_type": "code",
   "execution_count": 4,
   "metadata": {},
   "outputs": [
    {
     "name": "stdout",
     "output_type": "stream",
     "text": [
      "[[ 0.67292202  1.52648213  0.63230217  0.3696448  -0.26612381]\n",
      " [-1.03305619  2.20614795  0.11802197  0.70551262  0.98834139]\n",
      " [-1.49298812  1.04219826 -0.05994208  1.58160267 -1.03507104]\n",
      " [-1.83039864  1.13072451 -0.00476259 -0.06446949 -0.67362205]]\n"
     ]
    }
   ],
   "source": [
    "import numpy as np\n",
    "\n",
    "m = 4\n",
    "n = 5\n",
    "# ----------------------- #\n",
    "# COMPLETE THIS CODE\n",
    "A = np.random.randn(m, n)\n",
    "B = np.random.randn\n",
    "np.allclose((A+B).T)\n",
    "# ----------------------- #"
   ]
  },
  {
   "cell_type": "code",
   "execution_count": null,
   "metadata": {},
   "outputs": [],
   "source": []
  }
 ],
 "metadata": {
  "kernelspec": {
   "display_name": "Python 3",
   "language": "python",
   "name": "python3"
  },
  "language_info": {
   "codemirror_mode": {
    "name": "ipython",
    "version": 3
   },
   "file_extension": ".py",
   "mimetype": "text/x-python",
   "name": "python",
   "nbconvert_exporter": "python",
   "pygments_lexer": "ipython3",
   "version": "3.6.3"
  }
 },
 "nbformat": 4,
 "nbformat_minor": 2
}
