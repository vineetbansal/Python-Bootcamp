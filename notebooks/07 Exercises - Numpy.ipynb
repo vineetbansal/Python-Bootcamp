{
 "cells": [
  {
   "cell_type": "markdown",
   "metadata": {},
   "source": [
    "## Exercise 1\n",
    "\n",
    "Given n, create a n x n matrix `M` of random values between 0 and 1. Multiply it by an Identity Matrix and verify that the result is unchanged from `M`.\n",
    "\n",
    "$$\n",
    "    M * I= M\n",
    "$$\n",
    "\n",
    "Numpy Functions that might come in handy here are `np.random.randn`, `np.dot`, `np.eye` and `np.allclose`."
   ]
  },
  {
   "cell_type": "code",
   "execution_count": 4,
   "metadata": {},
   "outputs": [],
   "source": [
    "import numpy as np\n",
    "\n",
    "n = 5\n",
    "# ----------------------- #\n",
    "# COMPLETE THIS CODE\n",
    "# ----------------------- #"
   ]
  },
  {
   "cell_type": "markdown",
   "metadata": {},
   "source": [
    "## Exercise 2\n",
    "\n",
    "Given `n`, create two `n x n` matrices `A` and `B` of random values and verify the following mathematical identities:\n",
    "\n",
    "$$\n",
    "    (A + B)^{T} = A^{T} + B^{T}\n",
    "$$\n",
    "$$\n",
    "    (AB)^{T} = B^{T}A^{T}\n",
    "$$\n",
    "\n",
    "Numpy Functions that might come in handy here are `np.random.randn`, `np.dot` and `np.allclose`. Also, remember that ndarrays have a `transpose()` *method*, or a `T` *property* that returns the transpose."
   ]
  },
  {
   "cell_type": "code",
   "execution_count": 5,
   "metadata": {},
   "outputs": [],
   "source": [
    "import numpy as np\n",
    "\n",
    "n = 5\n",
    "# ----------------------- #\n",
    "# COMPLETE THIS CODE\n",
    "# ----------------------- #"
   ]
  },
  {
   "cell_type": "markdown",
   "metadata": {},
   "source": [
    "## Exercise 3\n",
    "\n",
    "What is the difference, if any, between the following statements:\n",
    "    \n",
    "```\n",
    ">>> a = np.array([0,0,0])\n",
    ">>> a = np.array([[0,0,0]])\n",
    "```\n",
    "\n",
    "*Hint*: Use the introspection properties of numpy arrays to help you out!"
   ]
  },
  {
   "cell_type": "code",
   "execution_count": 12,
   "metadata": {},
   "outputs": [],
   "source": [
    "# ----------------------- #\n",
    "# COMPLETE THIS CODE\n",
    "a = np.array([0,0,0])\n",
    "b = np.array([[0,0,0]])\n",
    "# ----------------------- #"
   ]
  },
  {
   "cell_type": "markdown",
   "metadata": {},
   "source": [
    "## Exercise 4\n",
    "\n",
    "Write a one-line statement that returns `True` if an array is a monotonically increasing sequence, or `False` otherwise.\n",
    "\n",
    "*Hints*:\n",
    "\n",
    "`np.all(a)` determines whether *all* array elements of `a` evaluate to `True`. For example:\n",
    "\n",
    "```\n",
    "np.all([True, True, False, True])\n",
    ">>> False\n",
    "```\n",
    "\n",
    "`np.any(a)` determines whether *any* array element of `a` evaluates to `True`'. For example:\n",
    "```\n",
    "np.any([True, True, False, True])\n",
    ">>> True\n",
    "```\n",
    "\n",
    "`np.diff` returns the *difference* between consecutive elements of a sequence. For example:\n",
    "\n",
    "```\n",
    "np.diff([1,2,3,3,2])\n",
    ">>> array([1, 1, 0, -1])\n",
    "```"
   ]
  },
  {
   "cell_type": "code",
   "execution_count": 10,
   "metadata": {},
   "outputs": [],
   "source": [
    "import numpy as np\n",
    "\n",
    "a = np.array([1, 1.3, 2.6, 2.8, 2.3, 3.9, 4.1, 5])\n",
    "\n",
    "# ----------------------- #\n",
    "# COMPLETE THIS CODE\n",
    "# ----------------------- #"
   ]
  }
 ],
 "metadata": {
  "kernelspec": {
   "display_name": "Python 3",
   "language": "python",
   "name": "python3"
  },
  "language_info": {
   "codemirror_mode": {
    "name": "ipython",
    "version": 3
   },
   "file_extension": ".py",
   "mimetype": "text/x-python",
   "name": "python",
   "nbconvert_exporter": "python",
   "pygments_lexer": "ipython3",
   "version": "3.6.3"
  }
 },
 "nbformat": 4,
 "nbformat_minor": 2
}
