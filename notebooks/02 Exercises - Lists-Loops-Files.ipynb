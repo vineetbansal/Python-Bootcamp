{
 "cells": [
  {
   "cell_type": "markdown",
   "metadata": {},
   "source": [
    "## Exercise 1\n",
    "\n",
    "Write a Python program to normalize a list of numbers, `items`, such that its values lie between 0 and 1. For example, the list `items = [2, 4, 10, 6, 8, 4]` becomes `[0.2, 0.4, 1.0, 0.6, 0.8, 0.4]`"
   ]
  },
  {
   "cell_type": "code",
   "execution_count": 53,
   "metadata": {},
   "outputs": [],
   "source": [
    "items = [2, 4, 10, 6, 8, 4]\n",
    "\n",
    "# -------------------- #\n",
    "# COMPLETE THIS CODE\n",
    "# ???\n",
    "# -------------------- #"
   ]
  },
  {
   "cell_type": "markdown",
   "metadata": {},
   "source": [
    "## Exercise 2\n",
    "\n",
    "Use a `for` loop to calculate $\\pi$ from the first 20 terms of the *Madhava* series:\n",
    "\n",
    "$$ \\pi = \\sqrt{12} (1 - \\frac{1}{3.3} + \\frac{1}{5.3^2} - \\frac{1}{7.3^3} + ...) $$"
   ]
  },
  {
   "cell_type": "code",
   "execution_count": 57,
   "metadata": {},
   "outputs": [
    {
     "name": "stdout",
     "output_type": "stream",
     "text": [
      "0\n"
     ]
    }
   ],
   "source": [
    "terms = 20\n",
    "result = 0\n",
    "\n",
    "# -------------------- #\n",
    "# Question: How do you ensure that alternate terms have alternate signs +/- ?\n",
    "# Hint: If you're getting an incorrect answer - check the value of -1**0. Is it what you expect?\n",
    "#\n",
    "# COMPLETE THIS CODE\n",
    "# ???\n",
    "# -------------------- #\n",
    "\n",
    "print(result)   "
   ]
  },
  {
   "cell_type": "markdown",
   "metadata": {},
   "source": [
    "## Exercise 3\n",
    "\n",
    "The game of \"Fizzbuzz\" involves counting, but replacing numbers divisible by 3 with the word *'Fizz'*, those divisible by 5 with *'Buzz'*, and those divisible by both 3 and 5 with *'FizzBuz'*. Write a program to play this game, counting up to to 100."
   ]
  },
  {
   "cell_type": "code",
   "execution_count": 61,
   "metadata": {},
   "outputs": [],
   "source": [
    "n = 100\n",
    "\n",
    "# -------------------- #\n",
    "# COMPLETE THIS CODE\n",
    "# -------------------- #"
   ]
  },
  {
   "cell_type": "markdown",
   "metadata": {},
   "source": [
    "## Exercise 4\n",
    "\n",
    "In the Gregorian calendar a year is a *leap year* if it is divisible by 4 with the exceptions that years divisible by 100 are *not* leap years unless they are also divisible by 400. Write a Python program to determine if `year` is a leap year."
   ]
  },
  {
   "cell_type": "code",
   "execution_count": 67,
   "metadata": {},
   "outputs": [
    {
     "name": "stdout",
     "output_type": "stream",
     "text": [
      "False\n"
     ]
    }
   ],
   "source": [
    "year = 1900\n",
    "\n",
    "is_leap = False\n",
    "\n",
    "# -------------------- #\n",
    "# COMPLETE THIS CODE\n",
    "# ???\n",
    "# -------------------- #\n",
    "\n",
    "print(is_leap)"
   ]
  },
  {
   "cell_type": "markdown",
   "metadata": {},
   "source": [
    "## Exercise 5\n",
    "\n",
    "Read the file `numbers.txt` and print out the sum of all the numbers in that file."
   ]
  },
  {
   "cell_type": "code",
   "execution_count": 74,
   "metadata": {},
   "outputs": [
    {
     "name": "stdout",
     "output_type": "stream",
     "text": [
      "0\n"
     ]
    }
   ],
   "source": [
    "filename = 'numbers.txt'\n",
    "total = 0\n",
    "\n",
    "# -------------------- #\n",
    "# COMPLETE THIS CODE\n",
    "# ???\n",
    "# -------------------- #\n",
    "\n",
    "print(total)"
   ]
  },
  {
   "cell_type": "markdown",
   "metadata": {},
   "source": [
    "\n",
    "## Exercise 6\n",
    "\n",
    "The coast redwood tree species, *Sequoia sempervirens*, includes some of the oldest and tallest living organisms on Earth. Some details concerning individual trees are given in the tab-delimited text file [redwood-data.txt](files/redwood-data.txt) (data courtesy of the [Gymnosperm database](http://www.conifers.org/cu/Sequoia.php).)\n",
    "\n",
    "Write a Python program to read in this data and report the tallest tree and the tree with the greatest diameter."
   ]
  },
  {
   "cell_type": "code",
   "execution_count": 82,
   "metadata": {},
   "outputs": [],
   "source": [
    "# -------------------------------------------------------- #\n",
    "# Program to read the tab-delimited text file and report\n",
    "# 1. Tallest Tree\n",
    "# 2. Tree with greatest diameter\n",
    "# \n",
    "# COMPLETE THIS CODE\n",
    "# ???\n",
    "# -------------------------------------------------------- #"
   ]
  },
  {
   "cell_type": "markdown",
   "metadata": {},
   "source": [
    "## Exercise 7\n",
    "\n",
    "Let's try to use most of what we've learnt so far for lists/for loops to analyze a work of literature, and plot mentions of character(s) in the book as the book progresses.\n",
    "\n",
    "[Project Gutenberg](http://www.gutenberg.org) has the text for a lot of works of copyright-free literature. We choose [The Three Musketeers](http://www.gutenberg.org/ebooks/1257) here and look for mentions of the (Four!) Musketeers, but once you get the exercise working, you can use your program for any of the classics with any characters you want to search for.\n",
    "\n",
    "If our program works correctly, we should get a graph that looks like the following, indicating that D'Artagnan far surpasses the three musketeers in popularity!\n",
    "\n",
    "![character_graph](images/the_three_musketeers.png)"
   ]
  },
  {
   "cell_type": "code",
   "execution_count": 24,
   "metadata": {},
   "outputs": [
    {
     "data": {
      "image/png": "[encoded data removed]",
      "text/plain": [
       "<matplotlib.figure.Figure at 0x10f53eec588>"
      ]
     },
     "metadata": {},
     "output_type": "display_data"
    }
   ],
   "source": [
    "# ---------------------------------------------------------------------------- #\n",
    "# -- Don't worry about this part of the code for now - assume it just works -- #\n",
    "# ---------------------------------------------------------------------------- #\n",
    "%matplotlib inline\n",
    "import matplotlib.pyplot as plt\n",
    "import requests\n",
    "\n",
    "def get_lines(url):\n",
    "        return requests.get(url).content.decode('utf-8').split('\\n')\n",
    "# ---------------------------------------------------------------------------- #\n",
    "\n",
    "\n",
    "# ----------------------- CONSTANTS ---------------------------#\n",
    "BOOK_TITLE = 'The Three Musketeers'\n",
    "\n",
    "# Browse for your favorite book and\n",
    "# copy-paste the link to the Plain Text UTF-8 file below.\n",
    "BOOK_LINK = 'http://www.gutenberg.org/files/1257/1257-0.txt'\n",
    "\n",
    "# Terms or 'tokens' that we wish to search\n",
    "TOKENS = ['athos', 'porthos', 'aramis', 'd’artagnan']\n",
    "# ----------------------- CONSTANTS ---------------------------#\n",
    "\n",
    "# ------------------------------------------------------------------------ #\n",
    "# get_lines gives us the lines of the book (given a link to it), in a List #\n",
    "# ------------------------------------------------------------------------ #\n",
    "lines = get_lines(BOOK_LINK)\n",
    "\n",
    "# -------------------------------------------------------- #\n",
    "# COMPLETE THIS CODE\n",
    "# ???\n",
    "# -------------------------------------------------------- #\n",
    "    \n",
    "plt.legend()"
   ]
  }
 ],
 "metadata": {
  "kernelspec": {
   "display_name": "Python 3",
   "language": "python",
   "name": "python3"
  },
  "language_info": {
   "codemirror_mode": {
    "name": "ipython",
    "version": 3
   },
   "file_extension": ".py",
   "mimetype": "text/x-python",
   "name": "python",
   "nbconvert_exporter": "python",
   "pygments_lexer": "ipython3",
   "version": "3.6.3"
  }
 },
 "nbformat": 4,
 "nbformat_minor": 2
}
