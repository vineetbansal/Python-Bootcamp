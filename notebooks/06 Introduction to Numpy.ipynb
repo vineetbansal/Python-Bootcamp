{
 "cells": [
  {
   "cell_type": "markdown",
   "metadata": {},
   "source": [
    "# Introduction to NumPy\n",
    "NumPy is the most fundamental library to scientific computing in Python. It forms the basis for most of the important data science libraries like pandas, scipy and tensorflow.\n",
    "\n",
    "The main data structure that NumPy provides is the n-dimensional array object or **`ndarray`**. ndarray objects may be any number of dimensions. Typically in data science we are dealing with two dimensional tabular data of rows and columns. Here we will begin by creating a 2-D array of random values from a normal distribution and do some basic analysis on it."
   ]
  },
  {
   "cell_type": "code",
   "execution_count": 2,
   "metadata": {},
   "outputs": [],
   "source": [
    "import numpy as np"
   ]
  },
  {
   "cell_type": "markdown",
   "metadata": {},
   "source": [
    "## Create first array\n",
    "\n",
    "The simplest way to create a small ndarray is to specify the values in a list."
   ]
  },
  {
   "cell_type": "code",
   "execution_count": 7,
   "metadata": {},
   "outputs": [
    {
     "name": "stdout",
     "output_type": "stream",
     "text": [
      "[1 2 3 4]\n",
      "[[1 2]\n",
      " [3 4]]\n",
      "[[ 1.  2.]\n",
      " [ 3.  4.]]\n"
     ]
    }
   ],
   "source": [
    "a = np.array([1,2,3,4])  # 1-d array\n",
    "print(a)\n",
    "b = np.array([[1,2],[3,4]])  # 2-d array\n",
    "print(b)\n",
    "c = np.array([[1,2],[3,4]], dtype=np.float64)  # 2-d array of a given 'data-type'\n",
    "print(c)"
   ]
  },
  {
   "cell_type": "markdown",
   "metadata": {},
   "source": [
    "# Common ways to initialize ndarrays\n",
    "\n",
    "We can initialise an ndarray of a given `shape` in several ways:"
   ]
  },
  {
   "cell_type": "code",
   "execution_count": 4,
   "metadata": {},
   "outputs": [],
   "source": [
    "# Specify the values explicitly\n",
    "a = np.array([[1, 2], [3, 4]])\n",
    "\n",
    "# Create an uninitialized array of random values\n",
    "b = np.empty((2, 2))\n",
    "\n",
    "# Create an array of 0s\n",
    "c = np.zeros((3, 2))\n",
    "\n",
    "# Create an array of 1s\n",
    "d = np.ones((2, 3))\n",
    "\n",
    "# Create an identity matrix\n",
    "I = np.eye(4)  # Square, so we only need to specify the no. of rows\n",
    "\n",
    "# Create an array of random values from a distribution with mean=0 and std=1\n",
    "R = np.random.randn(2, 3)"
   ]
  },
  {
   "cell_type": "markdown",
   "metadata": {},
   "source": [
    "# Useful attributes for inspecting an ndarray"
   ]
  },
  {
   "cell_type": "code",
   "execution_count": 10,
   "metadata": {},
   "outputs": [
    {
     "name": "stdout",
     "output_type": "stream",
     "text": [
      "(2, 3)\n",
      "2\n",
      "6\n",
      "int32\n"
     ]
    }
   ],
   "source": [
    "# VERY helpful to see the 'shape' of an ndarray to make sure you have what you expect\n",
    "a = np.array([[1, 0, 1], [0, 1, 0]])\n",
    "print(a.shape)\n",
    "# We will keep inspecting the shape of arrays regularly to maintain sanity!\n",
    "\n",
    "# No. of dimensions of an ndarray\n",
    "# This is also called 'rank' of the ndarray in the numpy world\n",
    "# (Not to be confused with the 'rank' of a matrix which is a concept in linear algebra)\n",
    "print(a.ndim)\n",
    "\n",
    "# Total no. of elements in an ndarray - product of shape values\n",
    "print(a.size)\n",
    "\n",
    "# The data-type of an ndarray\n",
    "print(a.dtype)"
   ]
  },
  {
   "cell_type": "markdown",
   "metadata": {},
   "source": [
    "Note that most common data types are supported by Numpy. For a complete list, see [Numpy Data Types](https://docs.scipy.org/doc/numpy-1.13.0/user/basics.types.html).\n",
    "\n",
    "To get things started we will create an array with numbers generated from a random normal distribution with mean 0 and standard deviation 1."
   ]
  },
  {
   "cell_type": "code",
   "execution_count": null,
   "metadata": {},
   "outputs": [],
   "source": [
    "np.random.seed(123)\n",
    "array = np.random.randn(10, 5)  # 10x5 is the 'shape' of the array\n",
    "array = array.round(2)\n",
    "array"
   ]
  },
  {
   "cell_type": "markdown",
   "metadata": {},
   "source": [
    "# Accessing elements\n",
    "In native Python, the indexing operator, the brackets **[]**, select items from a container. This is most commonly done in tuples, lists and dictionaries. ndarrays use the same operator for selection. \n",
    "\n",
    "To select a single element simply place the index of the row and column inside the brackets separated by a comma."
   ]
  },
  {
   "cell_type": "code",
   "execution_count": null,
   "metadata": {},
   "outputs": [],
   "source": [
    "# select the element at 4th row, 3rd column\n",
    "# Get in the habit of counting from 0 - 0th row, 1st row .. etc\n",
    "array[4, 3]"
   ]
  },
  {
   "cell_type": "code",
   "execution_count": null,
   "metadata": {},
   "outputs": [],
   "source": [
    "# select all the rows of the 4th column\n",
    "array[:, 4]"
   ]
  },
  {
   "cell_type": "code",
   "execution_count": null,
   "metadata": {},
   "outputs": [],
   "source": [
    "# Use slice notation to select a block of data\n",
    "# Make sure we're getting what we would expect to get\n",
    "array[5:10, 2:5]"
   ]
  },
  {
   "cell_type": "code",
   "execution_count": null,
   "metadata": {},
   "outputs": [],
   "source": [
    "# start:stop:step notation\n",
    "# Make sure we're getting what we would expect to get\n",
    "array[3:10:5, ::2]"
   ]
  },
  {
   "cell_type": "markdown",
   "metadata": {},
   "source": [
    "# Operations on the entire array\n",
    "Applying an operation to entire array is easy and looks exactly how it would in normal mathematical notation. These operations are not so trivial with python lists"
   ]
  },
  {
   "cell_type": "code",
   "execution_count": null,
   "metadata": {},
   "outputs": [],
   "source": [
    "# multiply each element by 5\n",
    "array * 5"
   ]
  },
  {
   "cell_type": "code",
   "execution_count": null,
   "metadata": {},
   "outputs": [],
   "source": [
    "# take 3\n",
    "array - 3"
   ]
  },
  {
   "cell_type": "markdown",
   "metadata": {},
   "source": [
    "# Vectorized Operations\n",
    "NumPy is blazingly fast by Python standards. It is fast because it executes its code in pre-compiled C and Fortran that is highly optimized for scientific computing."
   ]
  },
  {
   "cell_type": "code",
   "execution_count": null,
   "metadata": {},
   "outputs": [],
   "source": [
    "# grab the first row\n",
    "row = array[:, 0]\n",
    "some_list = list(row)\n",
    "print(type(some_list))  # Note that we're dealing with a regular Python list of numbers here"
   ]
  },
  {
   "cell_type": "code",
   "execution_count": null,
   "metadata": {},
   "outputs": [],
   "source": [
    "print([x + 1 for x in some_list])"
   ]
  },
  {
   "cell_type": "code",
   "execution_count": null,
   "metadata": {},
   "outputs": [],
   "source": [
    "%timeit [x + 1 for x in some_list]"
   ]
  },
  {
   "cell_type": "code",
   "execution_count": null,
   "metadata": {},
   "outputs": [],
   "source": [
    "%timeit row + 1"
   ]
  },
  {
   "cell_type": "markdown",
   "metadata": {},
   "source": [
    "# Applying functions\n",
    "\n",
    "Its easy to apply NumPy functions to all the values. These are referred to as *universal functions* that act on each element of an array, producing an array in return without the need for an explicit loop."
   ]
  },
  {
   "cell_type": "code",
   "execution_count": null,
   "metadata": {},
   "outputs": [],
   "source": [
    "# absolute value\n",
    "np.abs(array)"
   ]
  },
  {
   "cell_type": "code",
   "execution_count": null,
   "metadata": {},
   "outputs": [],
   "source": [
    "np.sqrt(np.abs(array)).round(2)"
   ]
  },
  {
   "cell_type": "code",
   "execution_count": null,
   "metadata": {},
   "outputs": [],
   "source": [
    "# sum all elements in the array\n",
    "array.sum()"
   ]
  },
  {
   "cell_type": "code",
   "execution_count": null,
   "metadata": {},
   "outputs": [],
   "source": [
    "# Same as calling the numpy function on the array\n",
    "np.sum(array)\n",
    "# Note that some operations are available as numpy functions, others as methods on the array.\n",
    "# In general, the syntax np.<function>(<array>) should cover us in most situations."
   ]
  },
  {
   "cell_type": "code",
   "execution_count": null,
   "metadata": {},
   "outputs": [],
   "source": [
    "# sum along rows with axis parameter\n",
    "# Note - summing 'along' rows gives us the same no. of results as the no. of rows\n",
    "array.sum(axis=1)"
   ]
  },
  {
   "cell_type": "code",
   "execution_count": null,
   "metadata": {},
   "outputs": [],
   "source": [
    "# sum along columns\n",
    "# Note - summing 'along' columns gives us the same no. of results as the no. of columns\n",
    "array.sum(axis=0)"
   ]
  },
  {
   "cell_type": "code",
   "execution_count": null,
   "metadata": {},
   "outputs": [],
   "source": [
    "# find max of each column\n",
    "array.max(axis=0)"
   ]
  },
  {
   "cell_type": "markdown",
   "metadata": {},
   "source": [
    "# Comparison operators\n",
    "The 6 comparison operators <, >, <=, >=, ==, != work on all elements of the array."
   ]
  },
  {
   "cell_type": "code",
   "execution_count": null,
   "metadata": {},
   "outputs": [],
   "source": [
    "array > 0"
   ]
  },
  {
   "cell_type": "code",
   "execution_count": null,
   "metadata": {},
   "outputs": [],
   "source": [
    "# Boolean Indexing\n",
    "# find out how many values are greater than 0\n",
    "np.sum(array > 0)"
   ]
  },
  {
   "cell_type": "code",
   "execution_count": null,
   "metadata": {},
   "outputs": [],
   "source": [
    "# find percentage of values greater than 0\n",
    "np.mean(array > 0)"
   ]
  },
  {
   "cell_type": "code",
   "execution_count": null,
   "metadata": {},
   "outputs": [],
   "source": [
    "# find how many are between -2 and 2\n",
    "(array > -2) & (array < 2)"
   ]
  },
  {
   "cell_type": "code",
   "execution_count": null,
   "metadata": {},
   "outputs": [],
   "source": [
    "# this should be about 95%\n",
    "((array > -2) & (array < 2)).mean()"
   ]
  },
  {
   "cell_type": "markdown",
   "metadata": {},
   "source": [
    "# Common matrix Operations"
   ]
  },
  {
   "cell_type": "code",
   "execution_count": 9,
   "metadata": {},
   "outputs": [
    {
     "name": "stdout",
     "output_type": "stream",
     "text": [
      "[[-0.72033033  1.42497934 -0.3211407 ]\n",
      " [-0.2804813   0.03822686  0.09973959]]\n",
      "[[-0.64890158  0.66039784]\n",
      " [-2.09679426 -1.83237088]\n",
      " [ 0.50177461  0.43174585]]\n",
      "[[-1.00081163  0.42721568  0.56786496]\n",
      " [-1.54936527  1.4632062   0.91866462]\n",
      " [ 0.37363894 -0.3500126  -0.22140111]]\n",
      "[[-1.00081163  0.42721568  0.56786496]\n",
      " [-1.54936527  1.4632062   0.91866462]\n",
      " [ 0.37363894 -0.3500126  -0.22140111]]\n",
      "[[ 0.1722472   1.34174447 -1.2556513 ]\n",
      " [ 1.14456092 -1.59456881  0.83428155]\n",
      " [-1.15052005  1.58654277  1.15089258]]\n"
     ]
    }
   ],
   "source": [
    "import numpy as np\n",
    "\n",
    "# A 2x3 matrix\n",
    "a = np.random.randn(2, 3)\n",
    "\n",
    "# A 2x3 matrix\n",
    "b = np.random.randn(2, 3)\n",
    "\n",
    "# Multiply two ndarrays element-wise\n",
    "print(a * b)\n",
    "\n",
    "# Get the transpose of a matrix\n",
    "print(a.T)\n",
    "\n",
    "# Multipy two 2d Matrices using Matrix Multiplication\n",
    "print(a.T @ b)\n",
    "\n",
    "# Or use A.dot(B) for matrix multiplication\n",
    "print(a.T.dot(b))\n",
    "\n",
    "# Other Linear Algebra Operations\n",
    "\n",
    "# Matrix inverse\n",
    "from numpy.linalg import inv\n",
    "c = np.random.rand(3, 3)\n",
    "print(inv(c))"
   ]
  },
  {
   "cell_type": "markdown",
   "metadata": {},
   "source": [
    "[Link](https://docs.scipy.org/doc/numpy/reference/routines.linalg.html) to other Linear Algebra Operations"
   ]
  },
  {
   "cell_type": "markdown",
   "metadata": {},
   "source": [
    "# Images as Numpy Arrays\n",
    "\n",
    "Images, being a 2D structure of pixel values, are especially suited for getting familiar with Numpy syntax and operations in a fun and interactive way."
   ]
  },
  {
   "cell_type": "code",
   "execution_count": 58,
   "metadata": {},
   "outputs": [],
   "source": [
    "# The following is a Jupyter 'magic' command that tells it to insert plots right within the notebook.\n",
    "%matplotlib inline\n",
    "import numpy as np\n",
    "import matplotlib.pyplot as plt\n",
    "from matplotlib.image import imread\n",
    "\n",
    "# Set the default size of any plots we generate, in inches\n",
    "plt.rcParams['figure.figsize'] = (10, 6)\n",
    "\n",
    "# Read a PNG image into a Numpy Array\n",
    "img = imread('images/map.png')"
   ]
  },
  {
   "cell_type": "code",
   "execution_count": null,
   "metadata": {},
   "outputs": [],
   "source": [
    "# Basic inspection of what we got back by reading the PNG file\n",
    "\n",
    "print(type(img))\n",
    "print(img)\n",
    "print(img.ndim)\n",
    "print(img.shape)\n",
    "print(img.max())\n",
    "print(img.min())"
   ]
  },
  {
   "cell_type": "code",
   "execution_count": null,
   "metadata": {},
   "outputs": [],
   "source": [
    "# Displaying an image using Matplotlib\n",
    "plt.imshow(img, cmap='gray', vmin=0, vmax=1)"
   ]
  },
  {
   "cell_type": "code",
   "execution_count": null,
   "metadata": {},
   "outputs": [],
   "source": [
    "# Notice that the image is especially poor in contrast. Can we do something about it?\n",
    "\n",
    "# Increase Contrast Range\n",
    "pixel_min_value = img.min()\n",
    "pixel_range = img.max() - img.min()\n",
    "img_normalized = (img - pixel_min_value) / pixel_range\n",
    "plt.imshow(img_normalized, cmap='gray', vmin=0, vmax=1)"
   ]
  },
  {
   "cell_type": "code",
   "execution_count": null,
   "metadata": {},
   "outputs": [],
   "source": [
    "# Basic inspection of normalized array\n",
    "\n",
    "print(img_normalized.ndim)\n",
    "print(img_normalized.shape)\n",
    "print(img_normalized.max())\n",
    "print(img_normalized.min())"
   ]
  },
  {
   "cell_type": "code",
   "execution_count": null,
   "metadata": {},
   "outputs": [],
   "source": [
    "# Plot a histogram of the original and normalized images\n",
    "img_values = img.flatten()\n",
    "plt.hist(img_values)\n",
    "img_normalized_values = img_normalized.flatten()\n",
    "plt.hist(img_normalized_values)\n",
    "\n",
    "# Can you make the plots 'see-through', and add a legend?"
   ]
  },
  {
   "cell_type": "code",
   "execution_count": null,
   "metadata": {},
   "outputs": [],
   "source": [
    "# All pixel values are between 0 and 1\n",
    "# Is 0 Black and 1 white, or vice versa?\n",
    "# Let's find out!\n",
    "\n",
    "blank_image = np.ones(img.shape) * 1\n",
    "plt.imshow(blank_image, cmap='gray', vmin=0, vmax=1)"
   ]
  },
  {
   "cell_type": "code",
   "execution_count": null,
   "metadata": {},
   "outputs": [],
   "source": [
    "# Color images - notice the shape of the resulting matrix, which is 3d instead of 2d\n",
    "cezanne = imread('images/cezanne.png')\n",
    "print(cezanne.ndim)\n",
    "print(cezanne.shape)\n",
    "print(cezanne.max())\n",
    "print(cezanne.min())\n",
    "print(cezanne[:3])"
   ]
  },
  {
   "cell_type": "code",
   "execution_count": null,
   "metadata": {},
   "outputs": [],
   "source": [
    "# Display the image\n",
    "plt.imshow(cezanne)"
   ]
  },
  {
   "cell_type": "code",
   "execution_count": null,
   "metadata": {},
   "outputs": [],
   "source": [
    "# Let's extract the Blue/Green/Red channel values of the image into separate numpy arrays\n",
    "reds = cezanne[:, :, 0]\n",
    "blues = cezanne[:, :, 1]\n",
    "greens = cezanne[:, :, 2]\n",
    "\n",
    "# We'll add 3 subplots to our figure\n",
    "# With 1 row and 3 columns of subplots, and with a shared Y-axis\n",
    "# We get back two things:\n",
    "#     The figure object\n",
    "#     A tuple of 'Axes' objects, each corresponding to an individual subplot\n",
    "# So the axes object here has 3 axis inside it\n",
    "f, axes = plt.subplots(1, 3, sharey=True)\n",
    "\n",
    "# The 'Super Title' of the figure, common to all subplots\n",
    "f.suptitle('RGB Histograms')\n",
    "\n",
    "# For each of the axes, plot a histogram of the R/G/B channel values\n",
    "axes[0].hist(reds.flatten())\n",
    "axes[1].hist(blues.flatten())\n",
    "axes[2].hist(greens.flatten())\n",
    "\n",
    "# Can we change the color of the plots to correspond to the channel they represent?"
   ]
  },
  {
   "cell_type": "code",
   "execution_count": null,
   "metadata": {},
   "outputs": [],
   "source": [
    "# Let's mess with the Red channel, and modify all values in the red channel to 1\n",
    "reds = np.ones((cezanne.shape[0], cezanne.shape[1]))\n",
    "\n",
    "# We use the 'dstack' method here to stack the 3 numpy arrays 'depth-wise'\n",
    "# Notice that we also have 'hstack', and 'vstack' (horizontal-stacking and vertical-stacking respectively)\n",
    "red_cezanne = np.dstack((reds, blues, greens))\n",
    "\n",
    "# It's invaluable to look at the shape of the array at every point to ensure there are no surprises\n",
    "print(red_cezanne.shape)\n",
    "plt.imshow(red_cezanne)"
   ]
  }
 ],
 "metadata": {
  "kernelspec": {
   "display_name": "Python 3",
   "language": "python",
   "name": "python3"
  },
  "language_info": {
   "codemirror_mode": {
    "name": "ipython",
    "version": 3
   },
   "file_extension": ".py",
   "mimetype": "text/x-python",
   "name": "python",
   "nbconvert_exporter": "python",
   "pygments_lexer": "ipython3",
   "version": "3.6.3"
  }
 },
 "nbformat": 4,
 "nbformat_minor": 2
}
