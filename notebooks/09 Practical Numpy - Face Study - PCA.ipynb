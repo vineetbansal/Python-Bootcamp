{
 "cells": [
  {
   "cell_type": "code",
   "execution_count": null,
   "metadata": {},
   "outputs": [],
   "source": [
    "%matplotlib inline\n",
    "import numpy as np\n",
    "from numpy.linalg import svd\n",
    "import matplotlib.pyplot as plt\n",
    "from scipy.ndimage import imread\n",
    "from sklearn.decomposition import TruncatedSVD\n",
    "\n",
    "N_SUBJECTS = 40\n",
    "IMG_WIDTH = 92\n",
    "IMG_HEIGHT = 112\n",
    "SVD_COMPONENTS = 20\n",
    "\n",
    "def display_images(mat, display_cols=5):\n",
    "    \"\"\"Display one or more images in the `mat` ndarray, where each row represents an individual image.\n",
    "    Each extracted row in the `mat` ndarray should be IMG_WIDTH x IMG_HEIGHT in size.\n",
    "    \"\"\"\n",
    "    plt.figure(figsize=(20,40))\n",
    "\n",
    "    images = np.vsplit(mat, mat.shape[0])\n",
    "    for i, image in enumerate(images):\n",
    "        plt.subplot(len(images)/display_cols+1, display_cols, i+1)\n",
    "        plt.imshow(image.reshape((IMG_HEIGHT, -1)), cmap='gray')"
   ]
  },
  {
   "cell_type": "code",
   "execution_count": null,
   "metadata": {},
   "outputs": [],
   "source": [
    "X = np.vstack([imread('datasets/att_faces/s{}/1.pgm'.format(i)).reshape((1, -1)) for i in range(1, N_SUBJECTS+1)])\n",
    "print(X.shape)"
   ]
  },
  {
   "cell_type": "code",
   "execution_count": null,
   "metadata": {},
   "outputs": [],
   "source": [
    "display_images(X)"
   ]
  },
  {
   "cell_type": "code",
   "execution_count": null,
   "metadata": {},
   "outputs": [],
   "source": [
    "mean_X = X.mean(axis=0, keepdims=1)\n",
    "display_images(mean_X)"
   ]
  },
  {
   "cell_type": "code",
   "execution_count": null,
   "metadata": {},
   "outputs": [],
   "source": [
    "centered_X = X-mean_X\n",
    "display_images(centered_X)"
   ]
  },
  {
   "cell_type": "code",
   "execution_count": null,
   "metadata": {},
   "outputs": [],
   "source": [
    "u, s, v = svd(centered_X)"
   ]
  },
  {
   "cell_type": "code",
   "execution_count": null,
   "metadata": {},
   "outputs": [],
   "source": [
    "s_squared = s ** 2\n",
    "variance_ratio = np.cumsum(s_squared) / s_squared.sum()\n",
    "plt.plot(range(len(variance_ratio)), variance_ratio)\n",
    "plt.xlabel('# of Components')\n",
    "plt.ylabel('Explained Variance Ratio')"
   ]
  },
  {
   "cell_type": "code",
   "execution_count": null,
   "metadata": {},
   "outputs": [],
   "source": [
    "v = v[:SVD_COMPONENTS, :]\n",
    "low_dim_X = centered_X @ v.T\n",
    "reconstructed_X = low_dim_X @ v\n",
    "display_images(reconstructed_X + mean_X)"
   ]
  },
  {
   "cell_type": "markdown",
   "metadata": {},
   "source": [
    "# Using TruncatedSVD to do everything in one-shot"
   ]
  },
  {
   "cell_type": "code",
   "execution_count": null,
   "metadata": {
    "scrolled": true
   },
   "outputs": [],
   "source": [
    "tsvd = TruncatedSVD(n_components=SVD_COMPONENTS)\n",
    "tsvd.fit(centered_X)\n",
    "low_dim_X = tsvd.transform(centered_X)\n",
    "reconstructed_X = tsvd.inverse_transform(low_dim_X)\n",
    "display_images(reconstructed_X + mean_X)"
   ]
  },
  {
   "cell_type": "code",
   "execution_count": null,
   "metadata": {},
   "outputs": [],
   "source": [
    "%matplotlib notebook\n",
    "from mpl_toolkits.mplot3d import Axes3D\n",
    "\n",
    "N_SUBJECTS = 8\n",
    "X_all = np.vstack([imread('datasets/att_faces/s{}/{}.pgm'.format(i, j)).reshape((1, -1)) for i in range(1, N_SUBJECTS+1) for j in range(1,11)])\n",
    "print(X_all.shape)\n",
    "centered_X_all = X_all-mean_X\n",
    "\n",
    "tsvd = TruncatedSVD(n_components=3)\n",
    "tsvd.fit(centered_X)\n",
    "\n",
    "low_dim_X_all = tsvd.transform(centered_X_all)\n",
    "print(low_dim_X_all.shape)\n",
    "ax = plt.axes(projection='3d')\n",
    "\n",
    "ax.scatter3D(\n",
    "    low_dim_X_all[:, 0], low_dim_X_all[:, 1], low_dim_X_all[:, 2],\n",
    "    c=['b']*10 + ['g']*10 + ['r']*10 + ['c']*10 + ['m']*10 + ['y']*10 + ['k']*10 + ['w']*10\n",
    ")"
   ]
  },
  {
   "cell_type": "code",
   "execution_count": null,
   "metadata": {},
   "outputs": [],
   "source": []
  }
 ],
 "metadata": {
  "kernelspec": {
   "display_name": "Python 3",
   "language": "python",
   "name": "python3"
  },
  "language_info": {
   "codemirror_mode": {
    "name": "ipython",
    "version": 3
   },
   "file_extension": ".py",
   "mimetype": "text/x-python",
   "name": "python",
   "nbconvert_exporter": "python",
   "pygments_lexer": "ipython3",
   "version": "3.6.3"
  }
 },
 "nbformat": 4,
 "nbformat_minor": 2
}
