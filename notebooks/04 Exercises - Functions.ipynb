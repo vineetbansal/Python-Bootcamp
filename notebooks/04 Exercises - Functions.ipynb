{
 "cells": [
  {
   "cell_type": "markdown",
   "metadata": {},
   "source": [
    "Take each your solutions for the following exercises that you have tackled before, and convert the core logic of your code to a function. Pay special attention to:\n",
    "\n",
    "- The name of the function\n",
    "- The name of the arguments\n",
    "- The order of the arguments\n",
    "- Can any argument be given a sensible default value?\n",
    "\n",
    "## Exercise 4.1\n",
    "\n",
    "*Heron's formula* gives the area, A, of a triangle with sides a, b, c as:\n",
    "\n",
    "$$A = \\sqrt{s(s-a)(s-b)(s-c)}\\ where\\ s = \\frac{1}{2}(a + b + c)$$\n",
    "\n",
    "Write a function to calculate the area of a triangle given its 3 sides."
   ]
  },
  {
   "cell_type": "code",
   "execution_count": 2,
   "metadata": {},
   "outputs": [],
   "source": [
    "# ----------------------- #\n",
    "# COMPLETE THIS CODE\n",
    "# Function to calculate area of a triangle\n",
    "# ----------------------- #"
   ]
  },
  {
   "cell_type": "markdown",
   "metadata": {},
   "source": [
    "## Exercise 4.2\n",
    "\n",
    "Write a function for determining if a string is a palindrome (reads the same forward and backward). Allow the user to also specify the special characters (commas, punctuation marks etc.) to ignore when checking the string."
   ]
  },
  {
   "cell_type": "code",
   "execution_count": null,
   "metadata": {},
   "outputs": [],
   "source": [
    "# ----------------------- #\n",
    "# COMPLETE THIS CODE\n",
    "# Function to check whether a string is a palindrome\n",
    "# ----------------------- #"
   ]
  },
  {
   "cell_type": "markdown",
   "metadata": {},
   "source": [
    "## Exercise 4.3\n",
    "\n",
    "Enhance the above function to allow the user to also specify the special characters (commas, punctuation marks etc.) to ignore when checking the string."
   ]
  },
  {
   "cell_type": "code",
   "execution_count": null,
   "metadata": {},
   "outputs": [],
   "source": [
    "# ----------------------- #\n",
    "# COMPLETE THIS CODE\n",
    "# Function to check whether a string is a palindrome, with ignored characters.\n",
    "# ----------------------- #"
   ]
  },
  {
   "cell_type": "markdown",
   "metadata": {},
   "source": [
    "## Exercise 4.4\n",
    "\n",
    "The maximum number of slices a circular pizza can be divided into, using `n` number of cuts, is given by the recursive formula:\n",
    "    \n",
    "$$\n",
    "f(n) = f(n - 1) + n\n",
    "$$\n",
    "\n",
    "Write a program to print the maximum number of slices possible using `10` cuts. Don't forget to specify the base case!"
   ]
  },
  {
   "cell_type": "code",
   "execution_count": null,
   "metadata": {},
   "outputs": [],
   "source": [
    "cuts = 10\n",
    "\n",
    "# ----------------------- #\n",
    "# COMPLETE THIS CODE\n",
    "slices = 0\n",
    "# ----------------------- #\n",
    "\n",
    "print(slices)"
   ]
  },
  {
   "cell_type": "markdown",
   "metadata": {},
   "source": [
    "## Exercise 4.5\n",
    "\n",
    "Let's package the functions we've written for Exercise 4.1 and 4.3 into a *module* that we can share with others to use. We'll be careful to write useful *docstrings* for each of our functions and see the documentation appear in the Jupyter Notebook. \n",
    "\n",
    "We'll also see how to import/use our module on the Python console and in Spyder."
   ]
  }
 ],
 "metadata": {
  "kernelspec": {
   "display_name": "Python 3",
   "language": "python",
   "name": "python3"
  },
  "language_info": {
   "codemirror_mode": {
    "name": "ipython",
    "version": 3
   },
   "file_extension": ".py",
   "mimetype": "text/x-python",
   "name": "python",
   "nbconvert_exporter": "python",
   "pygments_lexer": "ipython3",
   "version": "3.6.3"
  }
 },
 "nbformat": 4,
 "nbformat_minor": 2
}
