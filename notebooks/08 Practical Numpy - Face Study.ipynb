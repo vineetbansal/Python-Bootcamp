{
 "cells": [
  {
   "cell_type": "markdown",
   "metadata": {},
   "source": [
    "# Using Numpy for practical Image Analysis\n",
    "\n",
    "We'll use Numpy to read in a bunch of human face images from the early 90s. This widely used dataset has photographs of 40 individuals working at AT&T, with 10 photographs of each subject in different lighting conditions.\n",
    "\n",
    "We'll use these images to create the 'Average Face' of an AT&T Employee. While this might seem like fun, to see why this might be a useful thing to do, see the other notebook [09 Practical Numpy - Face Study - PCA](09 Practical Numpy - Face Study - PCA.ipynb)', which runs an entire PCA model, where each individual face can be described using this 'Average Face' and just a handful (20) unique numbers!"
   ]
  },
  {
   "cell_type": "code",
   "execution_count": null,
   "metadata": {},
   "outputs": [],
   "source": [
    "%matplotlib inline\n",
    "import numpy as np\n",
    "from scipy.ndimage import imread\n",
    "import matplotlib.pyplot as plt\n",
    "\n",
    "images = []\n",
    "for subject_no in range(1, 41):\n",
    "    for pic_no in range(1, 11):\n",
    "        image = imread('datasets/att_faces_centered/subject_{}_{}.jpg'.format(subject_no, pic_no)).reshape(1, -1)\n",
    "        images.append(image)\n",
    "\n",
    "X = np.vstack(images)\n",
    "\n",
    "for matrix in X[::10, :]:\n",
    "    plt.figure()\n",
    "    plt.imshow(matrix.reshape((64, 64)), cmap='gray')\n",
    "\n",
    "# average_face = np.mean(X[::10], axis=0)\n",
    "# print(average_face.shape)\n",
    "# plt.imshow(average_face.reshape((64, 64)), cmap='gray')"
   ]
  },
  {
   "cell_type": "code",
   "execution_count": null,
   "metadata": {},
   "outputs": [],
   "source": []
  }
 ],
 "metadata": {
  "kernelspec": {
   "display_name": "Python 3",
   "language": "python",
   "name": "python3"
  },
  "language_info": {
   "codemirror_mode": {
    "name": "ipython",
    "version": 3
   },
   "file_extension": ".py",
   "mimetype": "text/x-python",
   "name": "python",
   "nbconvert_exporter": "python",
   "pygments_lexer": "ipython3",
   "version": "3.6.3"
  }
 },
 "nbformat": 4,
 "nbformat_minor": 2
}
