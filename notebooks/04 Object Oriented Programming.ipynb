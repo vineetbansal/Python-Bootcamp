{
 "cells": [
  {
   "cell_type": "markdown",
   "metadata": {},
   "source": [
    "## Defining Classes\n",
    "\n",
    "The following is a skeleton of a basic Circle class in Python."
   ]
  },
  {
   "cell_type": "code",
   "execution_count": null,
   "metadata": {},
   "outputs": [],
   "source": [
    "import math\n",
    "\n",
    "class Circle:\n",
    "    \"\"\"A class representing a circle with a radius r\"\"\"\n",
    "    def __init__(self, r):\n",
    "        self.r = r\n",
    "\n",
    "    def area(self):\n",
    "        \"\"\"Calculate the area of the circle in units of radius.\"\"\"\n",
    "        return math.pi * self.r ** 2\n",
    "\n",
    "    def perimeter(self):\n",
    "        \"\"\"Calculate the perimeter (circumference) of the circle in units of radius.\"\"\"\n",
    "        return 2 * math.pi * self.r"
   ]
  },
  {
   "cell_type": "markdown",
   "metadata": {},
   "source": [
    "## Exercise 7.1\n",
    "\n",
    "Ensure that the following code works."
   ]
  },
  {
   "cell_type": "code",
   "execution_count": null,
   "metadata": {},
   "outputs": [],
   "source": [
    "my_circle = Circle(3)\n",
    "print(my_circle.area())  # should print ~28.27\n",
    "print(my_circle.perimeter())  # should print ~18.85\n",
    "\n",
    "# Note that changing the radius of an existing Circle object works too.\n",
    "my_circle.r = 4\n",
    "print(my_circle.area())  # should print ~50.26"
   ]
  },
  {
   "cell_type": "markdown",
   "metadata": {},
   "source": [
    "## Exercise 7.2\n",
    "\n",
    "Make the following code work by defining a Triangle class similar to the Circle class above. Remember *Heron's Formula* for the area of a triangle:\n",
    "\n",
    "$$A = \\sqrt{s(s-a)(s-b)(s-c)}\\ where\\ s = \\frac{1}{2}(a + b + c)$$"
   ]
  },
  {
   "cell_type": "code",
   "execution_count": null,
   "metadata": {},
   "outputs": [],
   "source": [
    "my_triangle = Triangle(3, 3, 2)\n",
    "print(my_triangle.area())\n",
    "print(my_triangle.perimeter())"
   ]
  },
  {
   "cell_type": "markdown",
   "metadata": {},
   "source": [
    "## Exercise 7.3\n",
    "\n",
    "### Using `isinstance` to check if an object is an instance (direct or indirect) of a class.\n",
    "\n",
    "The `Circle` and `Triangle` class have similar properties and methods. Re-organize the class hierarchy by introducing a `Shape` class to make this relationship explicit. Once you're done, the following should work. Note the `assert` statement below, which checks to see if a logical condition is `True`. If it is, it does nothing (let's the program continue). If it's not, it *raises* (or *throws*) an `Exception` (a runtime error).\n",
    "\n",
    "Notice the difference between `isinstance` (which searches the entire class hierarchy), and `type` (which only tells us the type of the object). A such, `isinstance` is used more often than `type`."
   ]
  },
  {
   "cell_type": "code",
   "execution_count": null,
   "metadata": {},
   "outputs": [],
   "source": [
    "assert(isinstance(my_circle, Shape))       # my_circle is an instance of Shape\n",
    "assert(isinstance(my_triangle, Shape))     # my_triangle is an instance of Shape\n",
    "assert(isinstance(my_triangle, Triangle))  # my_triangle is an instance of Triangle\n",
    "\n",
    "assert(not(type(my_triangle) is Shape))    # my_triangle is not of type Shape\n",
    "assert(type(my_triangle) is Triangle)      # my_triangle is of type Triangle"
   ]
  },
  {
   "cell_type": "markdown",
   "metadata": {},
   "source": [
    "## Exercise 7.4\n",
    "\n",
    "Add a class specialized for right-triangles (triangles where one of the angles is a right angle). Things to consider:\n",
    "    \n",
    "  i) What would you name the class? Where would you place it in the hierarchy?\n",
    "  \n",
    "  ii) How would the constructor of this new class change? Do we still need all 3 sides?\n",
    "  \n",
    "  iii) What is the **most economical way** (in terms of how many lines of code we have to write) to define this class so that everything still works?\n",
    "(Note that ideally we only need to specify what's different in each class, not repeat what hasn't changed - DRY, don't repeat yourself).\n",
    "\n",
    "Note that this would involve calling the [`super`](https://docs.python.org/3/library/functions.html#super) constructor (the constructor of the parent of a class) by using the following syntax:\n",
    "\n",
    "```\n",
    "class C(B):\n",
    "    def method(self, arg):\n",
    "        super().method(arg)\n",
    "```"
   ]
  },
  {
   "cell_type": "markdown",
   "metadata": {},
   "source": [
    "## Exercise 7.5\n",
    "\n",
    "Implement the special method [`__str__`](https://docs.python.org/3/reference/datamodel.html#object.__str__) for your classes, which gives a *string representation* of the object concerned, such that the user of your class can simply say:"
   ]
  },
  {
   "cell_type": "code",
   "execution_count": null,
   "metadata": {},
   "outputs": [],
   "source": [
    "area = my_circle.area()\n",
    "print('Area of ' + str(my_circle) + ' is ' + str(area))\n",
    "\n",
    "# This could be shortened using Python's *Format Strings*\n",
    "print('Area of {} is {}'.format(my_circle, area))\n",
    "\n",
    "print('Area of {} is {}'.format(my_triangle, my_triangle.area()))"
   ]
  },
  {
   "cell_type": "markdown",
   "metadata": {},
   "source": [
    "## Exercise 7.6\n",
    "\n",
    "Note the repeated calculation of `s` (the semi-perimeter) in the case of both area and perimeter of a triangle. Looks like pre-calculating `s` would be helpful in both these methods.\n",
    "\n",
    "  i) In the spirit of DRY, could we calculate `s` once and use it in both methods? Remember - the user might change any side of the triangle (a, b, c) after they have constructed the object. How do we ensure that `s` is always valid?\n",
    "  \n",
    "  ii) How do we indicate that `s` is for our own internal use, and the user of our class need not be concerned about it?"
   ]
  },
  {
   "cell_type": "markdown",
   "metadata": {},
   "source": [
    "## Exercise 7.7\n",
    "\n",
    "The area of a right-triangle can be calculated as simply `0.5 * base * height`, which is a much faster calculation than using *Heron's Formula*. *Override* the area() method of the right-triangle class to make use of this simplified calculation."
   ]
  },
  {
   "cell_type": "markdown",
   "metadata": {},
   "source": [
    "## Exercise 7.8\n",
    "\n",
    "The following should fail, since no triangle can have a side which is longer than the sum of the other 2 sides:"
   ]
  },
  {
   "cell_type": "code",
   "execution_count": null,
   "metadata": {},
   "outputs": [],
   "source": [
    "bad_triangle = Triangle(3, 3, 8)\n",
    "print(bad_triangle.area())  # Should crash!"
   ]
  },
  {
   "cell_type": "markdown",
   "metadata": {},
   "source": [
    "How do you prevent the user from creating a *invalid triangle* in the first place, so that she doesn't discover this problem much later in her code (when trying to calculate the area).\n",
    "\n",
    "**Remember, put sanity checks in your code close to where they make natural sense, not close to where errors eventually show up**."
   ]
  }
 ],
 "metadata": {
  "kernelspec": {
   "display_name": "Python 3",
   "language": "python",
   "name": "python3"
  },
  "language_info": {
   "codemirror_mode": {
    "name": "ipython",
    "version": 3
   },
   "file_extension": ".py",
   "mimetype": "text/x-python",
   "name": "python",
   "nbconvert_exporter": "python",
   "pygments_lexer": "ipython3",
   "version": "3.6.3"
  }
 },
 "nbformat": 4,
 "nbformat_minor": 2
}
