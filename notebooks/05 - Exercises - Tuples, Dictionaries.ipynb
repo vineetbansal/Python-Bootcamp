{
 "cells": [
  {
   "cell_type": "markdown",
   "metadata": {},
   "source": [
    "## Exercise 1\n",
    "\n",
    "In one of the earlier exercises, we've worked with the text of *The Three Musketeers*. We'll use the same text here and plot a histogram of the 40 most commonly used words in the book.\n",
    "\n",
    "*Hint*: Use Python's string methods to strip out any punctuation. It suffices to replace any instances of the following characters with the empty string: `?.!/;:` This can be done by chaining together a bunch of `replace` method, but the `re.sub` function with a proper regular expression might be helpful here. When you have a dictionary with words as the keys and the corresponding word counts as the values, create a list of (count, word) tuples and sort it. (Look at the documentation of `sorted`).\n",
    "\n",
    "![Frequent Words](images/ttm_frequent_words.png)"
   ]
  },
  {
   "cell_type": "code",
   "execution_count": 65,
   "metadata": {},
   "outputs": [],
   "source": [
    "# ---------------------------------------------------------------------------- #\n",
    "# -- Don't worry about this part of the code for now - assume it just works -- #\n",
    "# ---------------------------------------------------------------------------- #\n",
    "import requests\n",
    "import re\n",
    "import matplotlib.pyplot as plt\n",
    "\n",
    "def get_lines(url):\n",
    "        return requests.get(url).content.decode('utf-8').split('\\n')\n",
    "# ---------------------------------------------------------------------------- #\n",
    "\n",
    "# ----------------------- CONSTANTS ---------------------------#\n",
    "BOOK_TITLE = 'The Three Musketeers'\n",
    "\n",
    "# Browse for your favorite book and\n",
    "# copy-paste the link to the Plain Text UTF-8 file below.\n",
    "BOOK_LINK = 'http://www.gutenberg.org/files/1257/1257-0.txt'\n",
    "# ----------------------- CONSTANTS ---------------------------#\n",
    "\n",
    "# ------------------------------------------------------------------------ #\n",
    "# get_lines gives us the lines of the book (given a link to it), in a List #\n",
    "# ------------------------------------------------------------------------ #\n",
    "lines = get_lines(BOOK_LINK)\n",
    "\n",
    "# -------------------------------------------------------- #\n",
    "# COMPLETE THIS CODE\n",
    "# -------------------------------------------------------- #"
   ]
  }
 ],
 "metadata": {
  "kernelspec": {
   "display_name": "Python 3",
   "language": "python",
   "name": "python3"
  },
  "language_info": {
   "codemirror_mode": {
    "name": "ipython",
    "version": 3
   },
   "file_extension": ".py",
   "mimetype": "text/x-python",
   "name": "python",
   "nbconvert_exporter": "python",
   "pygments_lexer": "ipython3",
   "version": "3.6.3"
  }
 },
 "nbformat": 4,
 "nbformat_minor": 2
}
